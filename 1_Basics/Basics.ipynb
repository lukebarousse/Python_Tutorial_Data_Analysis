{
  "nbformat": 4,
  "nbformat_minor": 0,
  "metadata": {
    "colab": {
      "provenance": []
    },
    "kernelspec": {
      "name": "python3",
      "display_name": "Python 3"
    },
    "language_info": {
      "name": "python"
    }
  },
  "cells": [
    {
      "cell_type": "markdown",
      "source": [
        "# Write Your First Line of Code\n",
        "\n"
      ],
      "metadata": {
        "id": "tkSBW3lcDtCl"
      }
    },
    {
      "cell_type": "code",
      "execution_count": null,
      "metadata": {
        "colab": {
          "base_uri": "https://localhost:8080/"
        },
        "id": "vy2DcJSbC87I",
        "outputId": "c1b9ba7d-a125-4f13-c29a-676390a71c6c"
      },
      "outputs": [
        {
          "output_type": "stream",
          "name": "stdout",
          "text": [
            "Hello, World!\n"
          ]
        }
      ],
      "source": [
        "print(\"Hello, World!\")"
      ]
    },
    {
      "cell_type": "markdown",
      "source": [
        "# Indentation\n",
        "\n",
        "## Notes\n",
        "* Refers to the spaces at the beginning of a code line.\n",
        "* Indentation is **very** important.\n",
        "* Python uses indentation to indicate a block of code\n",
        "\n",
        "## Scenario\n",
        "* Needed to run the code properly.\n",
        "\n",
        "## Example:\n",
        "Below this block of code is saying if 5 is greater than 2. Then do the line that's indented, which is print out 'Five is greater than two!'.\n"
      ],
      "metadata": {
        "id": "5MXi4cKtE2U1"
      }
    },
    {
      "cell_type": "code",
      "source": [
        "if 5 > 2:\n",
        "    print(\"Five is greater than two!\")"
      ],
      "metadata": {
        "colab": {
          "base_uri": "https://localhost:8080/"
        },
        "id": "la_WqFmsFRxb",
        "outputId": "dec00741-08d7-44f6-c839-13d26dc009aa"
      },
      "execution_count": null,
      "outputs": [
        {
          "output_type": "stream",
          "name": "stdout",
          "text": [
            "Five is greater than two!\n"
          ]
        }
      ]
    },
    {
      "cell_type": "markdown",
      "source": [
        "However, if you don't have an indent on the second line. Python doesn't understand that this second `print()` statement is based on the `if` statement. It will run an error."
      ],
      "metadata": {
        "id": "XOXO4slzE2dp"
      }
    },
    {
      "cell_type": "code",
      "source": [
        "if 5 >2:\n",
        "print(\"Five is greater than two!\")"
      ],
      "metadata": {
        "colab": {
          "base_uri": "https://localhost:8080/",
          "height": 106
        },
        "id": "sSZ66OBGFm-_",
        "outputId": "6b84048e-dab7-4ea4-b92b-484497c8ca81"
      },
      "execution_count": null,
      "outputs": [
        {
          "output_type": "error",
          "ename": "IndentationError",
          "evalue": "expected an indented block after 'if' statement on line 1 (<ipython-input-5-1e4a451bcd10>, line 2)",
          "traceback": [
            "\u001b[0;36m  File \u001b[0;32m\"<ipython-input-5-1e4a451bcd10>\"\u001b[0;36m, line \u001b[0;32m2\u001b[0m\n\u001b[0;31m    print(\"Five is greater than two!\")\u001b[0m\n\u001b[0m    ^\u001b[0m\n\u001b[0;31mIndentationError\u001b[0m\u001b[0;31m:\u001b[0m expected an indented block after 'if' statement on line 1\n"
          ]
        }
      ]
    },
    {
      "cell_type": "markdown",
      "source": [
        "# Variables\n",
        "\n"
      ],
      "metadata": {
        "id": "GXifHdAIE2gT"
      }
    },
    {
      "cell_type": "markdown",
      "source": [],
      "metadata": {
        "id": "Ju2bHWafE2jH"
      }
    },
    {
      "cell_type": "markdown",
      "source": [],
      "metadata": {
        "id": "ReYyveCLE2l1"
      }
    }
  ]
}