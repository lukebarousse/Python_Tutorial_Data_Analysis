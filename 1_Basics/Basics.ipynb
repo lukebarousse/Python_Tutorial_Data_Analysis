{
  "cells": [
    {
      "cell_type": "markdown",
      "metadata": {
        "id": "tkSBW3lcDtCl"
      },
      "source": [
        "# Write Your First Line of Code\n",
        "\n"
      ]
    },
    {
      "cell_type": "code",
      "execution_count": null,
      "metadata": {
        "colab": {
          "base_uri": "https://localhost:8080/"
        },
        "id": "vy2DcJSbC87I",
        "outputId": "c1b9ba7d-a125-4f13-c29a-676390a71c6c"
      },
      "outputs": [
        {
          "name": "stdout",
          "output_type": "stream",
          "text": [
            "Hello, World!\n"
          ]
        }
      ],
      "source": [
        "print(\"Hello, World!\")"
      ]
    },
    {
      "cell_type": "markdown",
      "metadata": {
        "id": "5MXi4cKtE2U1"
      },
      "source": [
        "# Indentation\n",
        "\n",
        "## Notes\n",
        "* Refers to the spaces at the beginning of a code line.\n",
        "* Indentation is **very** important.\n",
        "* Python uses indentation to indicate a block of code\n",
        "\n",
        "## Scenario\n",
        "* Needed to run the code properly.\n",
        "\n",
        "## Example:\n",
        "Below this block of code is saying if 5 is greater than 2. Then do the line that's indented, which is print out 'Five is greater than two!'.\n"
      ]
    },
    {
      "cell_type": "code",
      "execution_count": null,
      "metadata": {
        "colab": {
          "base_uri": "https://localhost:8080/"
        },
        "id": "la_WqFmsFRxb",
        "outputId": "dec00741-08d7-44f6-c839-13d26dc009aa"
      },
      "outputs": [
        {
          "name": "stdout",
          "output_type": "stream",
          "text": [
            "Five is greater than two!\n"
          ]
        }
      ],
      "source": [
        "if 5 > 2:\n",
        "    print(\"Five is greater than two!\")"
      ]
    },
    {
      "cell_type": "markdown",
      "metadata": {
        "id": "XOXO4slzE2dp"
      },
      "source": [
        "However, if you don't have an indent on the second line. Python doesn't understand that this second `print()` statement is based on the `if` statement. It will run an error."
      ]
    },
    {
      "cell_type": "code",
      "execution_count": null,
      "metadata": {
        "colab": {
          "base_uri": "https://localhost:8080/",
          "height": 106
        },
        "id": "sSZ66OBGFm-_",
        "outputId": "6b84048e-dab7-4ea4-b92b-484497c8ca81"
      },
      "outputs": [
        {
          "ename": "IndentationError",
          "evalue": "expected an indented block after 'if' statement on line 1 (<ipython-input-5-1e4a451bcd10>, line 2)",
          "output_type": "error",
          "traceback": [
            "\u001b[0;36m  File \u001b[0;32m\"<ipython-input-5-1e4a451bcd10>\"\u001b[0;36m, line \u001b[0;32m2\u001b[0m\n\u001b[0;31m    print(\"Five is greater than two!\")\u001b[0m\n\u001b[0m    ^\u001b[0m\n\u001b[0;31mIndentationError\u001b[0m\u001b[0;31m:\u001b[0m expected an indented block after 'if' statement on line 1\n"
          ]
        }
      ],
      "source": [
        "if 5 >2:\n",
        "print(\"Five is greater than two!\")"
      ]
    },
    {
      "cell_type": "markdown",
      "metadata": {
        "id": "GXifHdAIE2gT"
      },
      "source": [
        "# Variables\n",
        "\n"
      ]
    },
    {
      "cell_type": "markdown",
      "metadata": {
        "id": "Ju2bHWafE2jH"
      },
      "source": [
        "# Lists"
      ]
    },
    {
      "cell_type": "code",
      "execution_count": null,
      "metadata": {},
      "outputs": [],
      "source": [
        "from src.ManimViz import ListExplanation\n"
      ]
    },
    {
      "cell_type": "markdown",
      "metadata": {
        "id": "ReYyveCLE2l1"
      },
      "source": []
    }
  ],
  "metadata": {
    "colab": {
      "provenance": []
    },
    "kernelspec": {
      "display_name": "Python 3",
      "name": "python3"
    },
    "language_info": {
      "name": "python"
    }
  },
  "nbformat": 4,
  "nbformat_minor": 0
}
