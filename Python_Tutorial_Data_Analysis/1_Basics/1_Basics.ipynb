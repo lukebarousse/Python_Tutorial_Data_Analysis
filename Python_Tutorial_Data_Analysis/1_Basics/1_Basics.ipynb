{
  "nbformat": 4,
  "nbformat_minor": 0,
  "metadata": {
    "colab": {
      "provenance": [],
      "include_colab_link": true
    },
    "kernelspec": {
      "name": "python3",
      "display_name": "Python 3"
    },
    "language_info": {
      "name": "python"
    }
  },
  "cells": [
    {
      "cell_type": "markdown",
      "metadata": {
        "id": "view-in-github",
        "colab_type": "text"
      },
      "source": [
        "<a href=\"https://colab.research.google.com/github/lukebarousse/Python_Tutorial_Data_Analysis/blob/main/Python_Tutorial_Data_Analysis/1_Basics/1_Basics.ipynb\" target=\"_parent\"><img src=\"https://colab.research.google.com/assets/colab-badge.svg\" alt=\"Open In Colab\"/></a>"
      ]
    },
    {
      "cell_type": "markdown",
      "source": [
        "# Write Your First Line of Code\n",
        "\n"
      ],
      "metadata": {
        "id": "tkSBW3lcDtCl"
      }
    },
    {
      "cell_type": "code",
      "execution_count": null,
      "metadata": {
        "colab": {
          "base_uri": "https://localhost:8080/"
        },
        "id": "vy2DcJSbC87I",
        "outputId": "c1b9ba7d-a125-4f13-c29a-676390a71c6c"
      },
      "outputs": [
        {
          "output_type": "stream",
          "name": "stdout",
          "text": [
            "Hello, World!\n"
          ]
        }
      ],
      "source": [
        "print(\"Hello, World!\")"
      ]
    },
    {
      "cell_type": "markdown",
      "source": [
        "# Indentation\n",
        "\n",
        "## Notes\n",
        "\n",
        "* Refers to the spaces at the beginning of a code line.\n",
        "* Indentation is **very** important.\n",
        "* Python uses indentation to indicate a block of code\n",
        "* Needed to run the code properly.\n",
        "\n",
        "## Example\n",
        "\n",
        "Below this block of code is saying if 5 is greater than 2. Then do the line that's indented, which is print out 'Five is greater than two!'.\n",
        "\n"
      ],
      "metadata": {
        "id": "5MXi4cKtE2U1"
      }
    },
    {
      "cell_type": "code",
      "source": [
        "if 5 > 2:\n",
        "    print(\"Five is greater than two!\")"
      ],
      "metadata": {
        "colab": {
          "base_uri": "https://localhost:8080/"
        },
        "id": "la_WqFmsFRxb",
        "outputId": "dec00741-08d7-44f6-c839-13d26dc009aa"
      },
      "execution_count": null,
      "outputs": [
        {
          "output_type": "stream",
          "name": "stdout",
          "text": [
            "Five is greater than two!\n"
          ]
        }
      ]
    },
    {
      "cell_type": "markdown",
      "source": [
        "However, if you don't have an indent on the second line. Python doesn't understand that this second `print()` statement is based on the `if` statement. It will run an error."
      ],
      "metadata": {
        "id": "XOXO4slzE2dp"
      }
    },
    {
      "cell_type": "code",
      "source": [
        "if 5 >2:\n",
        "print(\"Five is greater than two!\")"
      ],
      "metadata": {
        "colab": {
          "base_uri": "https://localhost:8080/",
          "height": 106
        },
        "id": "sSZ66OBGFm-_",
        "outputId": "6b84048e-dab7-4ea4-b92b-484497c8ca81"
      },
      "execution_count": null,
      "outputs": [
        {
          "output_type": "error",
          "ename": "IndentationError",
          "evalue": "expected an indented block after 'if' statement on line 1 (<ipython-input-5-1e4a451bcd10>, line 2)",
          "traceback": [
            "\u001b[0;36m  File \u001b[0;32m\"<ipython-input-5-1e4a451bcd10>\"\u001b[0;36m, line \u001b[0;32m2\u001b[0m\n\u001b[0;31m    print(\"Five is greater than two!\")\u001b[0m\n\u001b[0m    ^\u001b[0m\n\u001b[0;31mIndentationError\u001b[0m\u001b[0;31m:\u001b[0m expected an indented block after 'if' statement on line 1\n"
          ]
        }
      ]
    },
    {
      "cell_type": "markdown",
      "source": [
        "# Comments\n",
        "\n",
        "## Notes\n",
        "\n",
        "* Comments are used to explain Python code\n",
        "* Help make it more readable\n",
        "* Can be used to prevent execution when testing code\n",
        "\n",
        "\n",
        "\n",
        "There are two main types of comments:\n",
        "1. Single line\n",
        "2. Multi-line"
      ],
      "metadata": {
        "id": "Ju2bHWafE2jH"
      }
    },
    {
      "cell_type": "markdown",
      "source": [
        "### Single Line\n",
        "\n",
        "#### Notes\n",
        "\n",
        "* These start with a `#`.\n",
        "* Can be placed at the end of a line.\n",
        "* Doesn't have to have text to explain the code, can also be used to prevent Python from executing the code.\n",
        "\n",
        "#### Example"
      ],
      "metadata": {
        "id": "0IjL4yqEhQLA"
      }
    },
    {
      "cell_type": "code",
      "source": [
        "# This is a comment\n",
        "print(\"What's up, Data Nerds!\")\n",
        "\n",
        "print(\"This is Luke\") #This is a comment\n",
        "\n",
        "# print(\"Python > SQL\")\n",
        "print(\"Bye\")"
      ],
      "metadata": {
        "colab": {
          "base_uri": "https://localhost:8080/"
        },
        "id": "j6-7mxDff8Bg",
        "outputId": "8b701100-9d32-4ce8-feb6-6a2a4eb2798e"
      },
      "execution_count": null,
      "outputs": [
        {
          "output_type": "stream",
          "name": "stdout",
          "text": [
            "What's up, Data Nerds!\n",
            "This is Luke\n",
            "Bye\n"
          ]
        }
      ]
    },
    {
      "cell_type": "markdown",
      "source": [
        "### Multi-Line Comments\n",
        "\n",
        "#### Notes\n",
        "\n",
        "* Python technically doesn't have multiline comments like SQL.\n",
        "* There are ways to do it:\n",
        "  * Insert `#` for each line\n",
        "  * Write a multiline string since Python will ignore string literals that aren't assigned to a variable. You'd use:   \n",
        "  ```\n",
        "  \"\"\"\n",
        "  your comment goes here\n",
        "  \"\"\"\n",
        "  ```\n",
        "\n",
        "#### Example"
      ],
      "metadata": {
        "id": "ReYyveCLE2l1"
      }
    },
    {
      "cell_type": "code",
      "source": [
        "# This is a comment\n",
        "# written in\n",
        "# multiple lines\n",
        "print(\"What's up, Data Nerds!\")\n",
        "\n",
        "\"\"\"\n",
        "This is a comment\n",
        "written in\n",
        "multiple lines\n",
        "\"\"\"\n",
        "print(\"This is Luke\")"
      ],
      "metadata": {
        "colab": {
          "base_uri": "https://localhost:8080/"
        },
        "id": "yG6Qh6DFgeFU",
        "outputId": "0f8e7b8c-baaf-4cb2-ddad-3bb53c3138e9"
      },
      "execution_count": null,
      "outputs": [
        {
          "output_type": "stream",
          "name": "stdout",
          "text": [
            "What's up, Data Nerds!\n",
            "This is Luke\n"
          ]
        }
      ]
    },
    {
      "cell_type": "markdown",
      "source": [
        "# Variables\n",
        "\n",
        "## Notes\n",
        "\n",
        "* A variable is created the moment you assign a value to it.\n",
        "* Variables don't need to be declared with any *type*.\n",
        "* Variables can change types even after they've been set.\n",
        "\n",
        "## Example\n",
        "\n",
        "* Create variables to store the following information about a job posting:\n",
        "  * Job ID (integer)\n",
        "  * Company Name (string)\n",
        "  * Salary Rate (string, but consider how you might store this as a numerical type for calculations)\n",
        "  * Job Work From Home (boolean)"
      ],
      "metadata": {
        "id": "GXifHdAIE2gT"
      }
    },
    {
      "cell_type": "code",
      "source": [
        "job_id = 101\n",
        "company_name = \"DataWiz Inc.\"\n",
        "job_title = \"Data Analyst\"\n",
        "salary_rate = 125000\n",
        "job_work_from_home = True"
      ],
      "metadata": {
        "id": "kZBprbvDd2aJ"
      },
      "execution_count": null,
      "outputs": []
    },
    {
      "cell_type": "markdown",
      "source": [
        "How do we view the variables we've created? Typically we use the `print()` function. Like so:"
      ],
      "metadata": {
        "id": "JQ2UFIT8hur8"
      }
    },
    {
      "cell_type": "code",
      "source": [
        "# This won't print out the variable name.\n",
        "print(job_id)\n",
        "print(company_name)\n",
        "print(job_title)\n",
        "print(salary_rate)\n",
        "print(job_work_from_home)"
      ],
      "metadata": {
        "colab": {
          "base_uri": "https://localhost:8080/"
        },
        "id": "DBsWe-Z9eK-i",
        "outputId": "03426fbf-716a-4993-cbb0-9c221f13c263"
      },
      "execution_count": null,
      "outputs": [
        {
          "output_type": "stream",
          "name": "stdout",
          "text": [
            "101\n",
            "DataWiz Inc.\n",
            "Data Analyst\n",
            "125000\n",
            "True\n"
          ]
        }
      ]
    },
    {
      "cell_type": "markdown",
      "source": [
        "# Data Types\n",
        "\n",
        "## Notes\n",
        "\n",
        "* Python can store data of different types\n",
        "* These types can do different things\n",
        "\n",
        "### Types\n",
        "\n",
        "Python has the following data types built-in by default:\n",
        "* Text Type: `str`\n",
        "* Numeric Types: `int`, `float`, `complex`\n",
        "* Sequence Types:\t`list`, `tuple`, `range`\n",
        "* Mapping Type:\t`dict`\n",
        "* Set Types:\t`set`, `frozenset`\n",
        "* Boolean Type:\t`bool`\n",
        "* Binary Types:\t`bytes`, `bytearray`, `memoryview`\n",
        "* None Type:\t`NoneType`\n",
        "\n",
        "### Course\n",
        "\n",
        "But in this course we'll mainly focus on:\n",
        "* Numeric types\n",
        "* Sequence types\n",
        "* Mapping types\n",
        "* Boolean types\n",
        "\n",
        "### Documentation\n",
        "\n",
        "For more information on the different data types in Python check out the Python documentation for data types [here](https://docs.python.org/3/library/datatypes.html).\n",
        "\n",
        "## Examples"
      ],
      "metadata": {
        "id": "shreMWAMh_HR"
      }
    },
    {
      "cell_type": "markdown",
      "source": [
        "View the data type"
      ],
      "metadata": {
        "id": "uvdAFpLgjAS2"
      }
    },
    {
      "cell_type": "code",
      "source": [
        "# View the data type\n",
        "# Of company_name = \"DataWiz Inc.\"\n",
        "print(type(company_name))"
      ],
      "metadata": {
        "colab": {
          "base_uri": "https://localhost:8080/"
        },
        "id": "Rwjxvkw0ib8Q",
        "outputId": "67cb5dfb-2c22-403e-b834-8a16468239d8"
      },
      "execution_count": null,
      "outputs": [
        {
          "output_type": "stream",
          "name": "stdout",
          "text": [
            "<class 'str'>\n"
          ]
        }
      ]
    },
    {
      "cell_type": "markdown",
      "source": [
        "Set the specific data type for each variable."
      ],
      "metadata": {
        "id": "YlDg2juteWJ_"
      }
    },
    {
      "cell_type": "code",
      "source": [
        "# Set specific data type\n",
        "job_id = int(102)\n",
        "company_name = str(\"Data Nerd, Inc.\")\n",
        "job_title = str(\"Data Scientist\")\n",
        "salary_rate = float(170000.00)\n",
        "job_work_from_home = bool(True)"
      ],
      "metadata": {
        "id": "hcxl-MLji9OF"
      },
      "execution_count": null,
      "outputs": []
    },
    {
      "cell_type": "markdown",
      "source": [
        "Check the data types of the variables."
      ],
      "metadata": {
        "id": "KPY13z_NeY1G"
      }
    },
    {
      "cell_type": "code",
      "source": [
        "# Check data types\n",
        "print(type(job_id))\n",
        "print(type(company_name))\n",
        "print(type(job_title))\n",
        "print(type(salary_rate))\n",
        "print(type(job_work_from_home))"
      ],
      "metadata": {
        "colab": {
          "base_uri": "https://localhost:8080/"
        },
        "id": "kgKC_YhijkRn",
        "outputId": "72365065-ca5e-4bee-b0df-9ec213421261"
      },
      "execution_count": null,
      "outputs": [
        {
          "output_type": "stream",
          "name": "stdout",
          "text": [
            "<class 'int'>\n",
            "<class 'str'>\n",
            "<class 'str'>\n",
            "<class 'float'>\n",
            "<class 'bool'>\n"
          ]
        }
      ]
    },
    {
      "cell_type": "markdown",
      "source": [
        "# Operators\n",
        "\n",
        "## Notes\n",
        "* Operators are used to perform operations on variables and values.\n",
        "* Python divides the operators into the followin groups:\n",
        "  * Arithmetic operators\n",
        "  * Assignment operators\n",
        "  * Comparison operators\n",
        "  * Logical operators\n",
        "  * Identity operators\n",
        "  * Membership operators\n",
        "  * Bitwise operators"
      ],
      "metadata": {
        "id": "tiw-r-rOfYdG"
      }
    },
    {
      "cell_type": "markdown",
      "source": [
        "## Arithmetic Operators\n",
        "\n",
        "### Notes\n",
        "\n",
        "Arithmetic operators are used with numberic values to performa common math operations like:\n",
        "\n",
        "<br>\n",
        "\n",
        "| Operator \t| Name           \t| Example \t|\n",
        "|----------\t|----------------\t|---------\t|\n",
        "| +        \t| Addition       \t| x + y   \t|\n",
        "| -        \t| Subtraction    \t| x - y   \t|\n",
        "| *        \t| Multiplication \t| x * y   \t|\n",
        "| /        \t| Division       \t| x / y   \t|\n",
        "| %        \t| Modulus        \t| x % y   \t|\n",
        "| **       \t| Exponentiation \t| x ** y  \t|\n",
        "| //       \t| Floor division \t| x // y  \t|\n",
        "\n",
        "\n",
        "<br> Official Python documentation [here](https://docs.python.org/3/library/stdtypes.html#truth-value-testing).\n",
        "\n",
        "### Examples"
      ],
      "metadata": {
        "id": "A6yv8VsSf5jb"
      }
    },
    {
      "cell_type": "markdown",
      "source": [
        "Example 1: Simple Addition\n",
        "\n",
        "You're comparing job offers. Offer A includes a base salary of $50,000 and a signing bonus of $5,000. Calculate the total value of Offer A."
      ],
      "metadata": {
        "id": "uVX6OMADvo3u"
      }
    },
    {
      "cell_type": "code",
      "source": [
        "# Example 1: Simple Addition\n",
        "base_salary = 50000\n",
        "signing_bonus = 5000\n",
        "total_offer = base_salary + signing_bonus\n",
        "print(\"Total offer value: $\", total_offer)\n"
      ],
      "metadata": {
        "id": "96EAIFITiNVf",
        "colab": {
          "base_uri": "https://localhost:8080/"
        },
        "outputId": "9f3d1c8e-6c76-475d-e3c4-2c98ec4af89d"
      },
      "execution_count": null,
      "outputs": [
        {
          "output_type": "stream",
          "name": "stdout",
          "text": [
            "Total offer value: $ 55000\n"
          ]
        }
      ]
    },
    {
      "cell_type": "markdown",
      "source": [
        "Example 2: Simple Subtraction\n",
        "\n",
        "Your yearly budget for data analysis tools is $2,000. You've already spent $1,200. How much of the budget is left?"
      ],
      "metadata": {
        "id": "86MKeNrcvr5y"
      }
    },
    {
      "cell_type": "code",
      "source": [
        "# Example 2: Simple Subtraction\n",
        "total_budget = 2000\n",
        "spent = 1200\n",
        "remaining_budget = total_budget - spent\n",
        "print(\"Remaining budget: $\", remaining_budget)"
      ],
      "metadata": {
        "id": "Uiovg99hvkYd",
        "colab": {
          "base_uri": "https://localhost:8080/"
        },
        "outputId": "0bdbb5fc-d873-4032-e80f-b0e321c8036e"
      },
      "execution_count": null,
      "outputs": [
        {
          "output_type": "stream",
          "name": "stdout",
          "text": [
            "Remaining budget: $ 800\n"
          ]
        }
      ]
    },
    {
      "cell_type": "markdown",
      "source": [
        "Example 3: Multiplication\n",
        "\n",
        "You are planning to buy new books on data science. Each book costs $35, and you want to buy 4 books. How much will the books cost in total?"
      ],
      "metadata": {
        "id": "zQQGZgaFvyoc"
      }
    },
    {
      "cell_type": "code",
      "source": [
        "# Example 3: Simple Multiplication\n",
        "book_cost = 35\n",
        "number_of_books = 4\n",
        "total_cost = book_cost * number_of_books\n",
        "print(\"Total cost for books: $\", total_cost)"
      ],
      "metadata": {
        "id": "yNpaFU-uvlba",
        "colab": {
          "base_uri": "https://localhost:8080/"
        },
        "outputId": "847289a3-093a-4b07-bc8c-990fdeba692c"
      },
      "execution_count": null,
      "outputs": [
        {
          "output_type": "stream",
          "name": "stdout",
          "text": [
            "Total cost for books: $ 140\n"
          ]
        }
      ]
    },
    {
      "cell_type": "markdown",
      "source": [
        "Example 4: Division\n",
        "\n",
        "Your data science project received a total of $1,200 funding. The project needs to be completed in 4 months. How much can you spend per month?"
      ],
      "metadata": {
        "id": "p14Ba7PnwAgP"
      }
    },
    {
      "cell_type": "code",
      "source": [
        "# Example 4: Simple Division\n",
        "total_funding = 1200\n",
        "months = 4\n",
        "monthly_budget = total_funding / months\n",
        "print(\"Monthly budget: $\", monthly_budget)\n"
      ],
      "metadata": {
        "id": "k1dFqjMcvk4_"
      },
      "execution_count": null,
      "outputs": []
    },
    {
      "cell_type": "markdown",
      "source": [
        "## Assignment Operators"
      ],
      "metadata": {
        "id": "8QHpQ-1Bf6IM"
      }
    },
    {
      "cell_type": "markdown",
      "source": [
        "## Comparison Operators"
      ],
      "metadata": {
        "id": "zj-pJCYUf6mO"
      }
    },
    {
      "cell_type": "markdown",
      "source": [
        "## Logical Operators"
      ],
      "metadata": {
        "id": "DwBjb2Vcf66Y"
      }
    },
    {
      "cell_type": "markdown",
      "source": [
        "# Conditional Statements\n",
        "\n",
        "* `if`\n",
        "* `elif`\n",
        "* `else`\n",
        "\n",
        "## If\n",
        "\n",
        "Python supports the following logical conditions from math:\n",
        "* Equals: `a == b`\n",
        "* Not Equals: `a != b`\n",
        "* Less than: `a < b`\n",
        "* Less than or equal to: `a <= b`\n",
        "* Greater than: `a > b`\n",
        "* Greater than or equal to: `a >= b`\n",
        "\n",
        "These conditions can be used in several ways, most commonly in \"if statements\" and loops.\n",
        "\n",
        "## Elif\n",
        "\n",
        " `Elif` is saying \"if the previous conditions were not true, then try this condition\"\n",
        "\n",
        "## Else\n",
        "\n",
        "`Else` runs if anything before it doesn't run.\n",
        "\n",
        "## Example\n",
        "\n",
        "* This script assigns values to variables representing the applicant's years of experience (years_experience) and whether they know Python (knows_python).\n",
        "* It uses a series of if, elif, and else statements to determine the category. Each condition checks:\n",
        "  * If the applicant's years of experience are greater than 5 and they know Python, they're categorized as a \"Senior Data Scientist\".\n",
        "  * If they have 2 to 5 years of experience and know Python, they're a \"Mid-level Data Scientist\".\n",
        "  * If they know Python but have less than 2 years of experience, they're a \"Junior Data Scientist\".\n",
        "  * Otherwise, they need further learning.\n",
        "* Finally, the script prints the category of the applicant."
      ],
      "metadata": {
        "id": "9iMQhePeiesU"
      }
    },
    {
      "cell_type": "code",
      "source": [
        "# Applicant details\n",
        "years_experience = 4  # An integer\n",
        "knows_python = True  # A boolean\n",
        "\n",
        "# Initialize category as a string\n",
        "category = \"Not Categorized\"\n",
        "\n",
        "# Categorization logic\n",
        "if years_experience > 5 and knows_python:\n",
        "    category = \"Senior Data Scientist\"\n",
        "elif years_experience >= 2 and knows_python:\n",
        "    category = \"Mid-level Data Scientist\"\n",
        "elif knows_python:\n",
        "    category = \"Junior Data Scientist\"\n",
        "else:\n",
        "    category = \"Needs Further Learning\"\n",
        "\n",
        "# Output\n",
        "print(\"Applicant Category:\", category)"
      ],
      "metadata": {
        "id": "MknARyJljsHd",
        "colab": {
          "base_uri": "https://localhost:8080/"
        },
        "outputId": "ffb68357-79c6-4c44-c3d0-206d4ddc9a43"
      },
      "execution_count": null,
      "outputs": [
        {
          "output_type": "stream",
          "name": "stdout",
          "text": [
            "Applicant Category: Mid-level Data Scientist\n"
          ]
        }
      ]
    },
    {
      "cell_type": "markdown",
      "source": [
        "# Loops\n",
        "\n",
        "* `while` loops\n",
        "* `for` loops\n",
        "\n",
        "## While\n",
        "\n",
        "### Notes\n",
        "\n",
        "* Execute a set of statements as long as the condition is true\n",
        "* Remember to increment i, or else the loop will continue forever.\n",
        "\n",
        "## For\n",
        "* Iterating over a sequence (e.g. list, tuple, dictionary, set, or string).\n",
        "* execute a set of statements, one for each item in a list, tuple, set etc.\n",
        "\n",
        "## Example\n",
        "\n"
      ],
      "metadata": {
        "id": "EjvncGMLlkQa"
      }
    },
    {
      "cell_type": "code",
      "source": [
        "# Loops Example"
      ],
      "metadata": {
        "id": "z3IVyhnzljOA"
      },
      "execution_count": null,
      "outputs": []
    },
    {
      "cell_type": "markdown",
      "source": [
        "# Practice Problem 1\n",
        "\n",
        "This is take directly from the Notion. **May change in the future.**\n",
        "\n",
        "**Basic Data Analysis with Objects, Variables, Data Types, Conditional Statements, and Loops**\n",
        "\n",
        "## Question\n",
        "\n",
        "**Objective**: Determine how many job titles contain the phrase \"Data Science\" without using lists or dictionaries.\n",
        "\n",
        "- **Instructions**:\n",
        "    - Create individual string variables for each job title, including some with the phrase \"Data Science\".\n",
        "    - Use a **`while`** loop to check each variable sequentially.\n",
        "    - Use conditional statements to determine if \"Data Science\" is in each job title.\n",
        "    - Count and print the number of job titles that contain \"Data Science\".\n",
        "\n",
        "This approach will allow practice with strings, conditional statements, and loops, within the constraints of the covered material.\n",
        "\n",
        "## Solution\n",
        "\n",
        "* While Loop: The loop starts with `current_job_number` set to 1 and continues as long as `current_job_number` is less than or equal to 5. This ensures that each job title variable is checked.\n",
        "* Conditional Statements Inside the Loop: Based on the value of `current_job_number`, the code sets `job_title` to the corresponding job title variable. This manual approach replaces the need for a list or dictionary.\n",
        "* Checking for \"Data Science\": For each job title, the code checks if the phrase \"Data Science\" is present. If yes, it increments the `data_science_jobs_count`.\n",
        "* Incrementing `current_job_number`: After checking a job title, `current_job_number` is incremented to move to the next job title in the subsequent iteration.\n",
        "* Result: After the loop finishes, the total count of job titles containing \"Data Science\" is printed."
      ],
      "metadata": {
        "id": "eTqSYLEvmoO9"
      }
    },
    {
      "cell_type": "code",
      "source": [
        "# Individual job title variables\n",
        "job_title1 = \"Data Scientist\"\n",
        "job_title2 = \"Software Engineer\"\n",
        "job_title3 = \"Data Science Manager\"\n",
        "job_title4 = \"Machine Learning Engineer\"\n",
        "job_title5 = \"Data Analyst\"\n",
        "\n",
        "# Counter for job titles containing \"Data Science\"\n",
        "data_science_jobs_count = 0\n",
        "\n",
        "# Initial condition for the while loop\n",
        "current_job_number = 1\n",
        "\n",
        "while current_job_number <= 5:\n",
        "    # Check the current job title based on current_job_number\n",
        "    if current_job_number == 1:\n",
        "        job_title = job_title1\n",
        "    elif current_job_number == 2:\n",
        "        job_title = job_title2\n",
        "    elif current_job_number == 3:\n",
        "        job_title = job_title3\n",
        "    elif current_job_number == 4:\n",
        "        job_title = job_title4\n",
        "    elif current_job_number == 5:\n",
        "        job_title = job_title5\n",
        "\n",
        "    # Check if \"Data Science\" is in the job title\n",
        "    if \"Data Science\" in job_title:\n",
        "        data_science_jobs_count += 1\n",
        "\n",
        "    # Increment to check the next job title\n",
        "    current_job_number += 1\n",
        "\n",
        "# Print the number of job titles that contain \"Data Science\"\n",
        "print(f\"Number of 'Data Science' job titles: {data_science_jobs_count}\")"
      ],
      "metadata": {
        "colab": {
          "base_uri": "https://localhost:8080/"
        },
        "id": "_F6xhXQUiNX-",
        "outputId": "dc37a45a-80e1-4f37-f959-17d3b9aeb8d9"
      },
      "execution_count": null,
      "outputs": [
        {
          "output_type": "stream",
          "name": "stdout",
          "text": [
            "Number of 'Data Science' job titles: 1\n"
          ]
        }
      ]
    },
    {
      "cell_type": "code",
      "source": [],
      "metadata": {
        "id": "YxZZp3FWm_yH"
      },
      "execution_count": null,
      "outputs": []
    }
  ]
}